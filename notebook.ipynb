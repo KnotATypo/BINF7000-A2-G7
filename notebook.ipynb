{
 "cells": [
  {
   "cell_type": "code",
   "id": "initial_id",
   "metadata": {
    "collapsed": true,
    "ExecuteTime": {
     "end_time": "2025-09-29T07:31:52.413577Z",
     "start_time": "2025-09-29T07:31:52.411930Z"
    }
   },
   "source": [
    "import matplotlib.pyplot as plt\n",
    "import pandas as pd\n",
    "from sklearn import tree\n",
    "from sklearn.ensemble import RandomForestClassifier\n",
    "from sklearn.metrics import recall_score, accuracy_score, precision_score\n",
    "from sklearn.model_selection import train_test_split\n",
    "from sklearn.tree import DecisionTreeClassifier"
   ],
   "outputs": [],
   "execution_count": 31
  },
  {
   "metadata": {
    "ExecuteTime": {
     "end_time": "2025-09-29T07:31:53.589765Z",
     "start_time": "2025-09-29T07:31:52.455623Z"
    }
   },
   "cell_type": "code",
   "source": [
    "dna_meth = pd.read_csv(\"data/G7_colon_dna-meth.csv\")\n",
    "gene_expr = pd.read_csv(\"data/G7_colon_gene-expr.csv\")"
   ],
   "id": "25fb0c83295678f9",
   "outputs": [],
   "execution_count": 32
  },
  {
   "metadata": {
    "ExecuteTime": {
     "end_time": "2025-09-29T07:31:53.647263Z",
     "start_time": "2025-09-29T07:31:53.641351Z"
    }
   },
   "cell_type": "code",
   "source": "dna_meth.head()",
   "id": "b02f40e31ae76618",
   "outputs": [
    {
     "data": {
      "text/plain": [
       "        Unnamed: 0          Label  cg00002719  cg00020191  cg00021558  \\\n",
       "0  TCGA.3L.AA1B.01  Primary Tumor    0.425515    0.436703    0.470791   \n",
       "1  TCGA.4N.A93T.01  Primary Tumor    0.672130    0.106270    0.155840   \n",
       "2  TCGA.4T.AA8H.01  Primary Tumor    0.748268    0.164050    0.311851   \n",
       "3  TCGA.5M.AAT4.01  Primary Tumor    0.734855    0.305086    0.124479   \n",
       "4  TCGA.5M.AAT5.01  Primary Tumor    0.784616    0.098849    0.062913   \n",
       "\n",
       "   cg00024472  cg00058329  cg00060320  cg00063174  cg00063471  ...  rs7746156  \\\n",
       "0    0.489124    0.520848    0.564841    0.027920    0.364866  ...   0.017584   \n",
       "1    0.543090    0.844422    0.278043    0.038139    0.053559  ...   0.455199   \n",
       "2    0.569771    0.807615    0.093203    0.766712    0.750500  ...   0.376560   \n",
       "3    0.606617    0.643406    0.601940    0.558619    0.517065  ...   0.967592   \n",
       "4    0.012552    0.121438    0.224108    0.521054    0.032354  ...   0.480225   \n",
       "\n",
       "   rs798149  rs845016  rs877309  rs9292570  rs9363764  rs939290  rs951295  \\\n",
       "0  0.015110  0.578530  0.473453   0.963402   0.047875  0.961194  0.508204   \n",
       "1  0.966917  0.488998  0.022801   0.966083   0.547980  0.937287  0.762945   \n",
       "2  0.967753  0.924707  0.017236   0.413866   0.046266  0.023421  0.971497   \n",
       "3  0.967524  0.908705  0.248435   0.020239   0.692241  0.952129  0.973124   \n",
       "4  0.386619  0.844465  0.222554   0.178524   0.029880  0.478118  0.970486   \n",
       "\n",
       "   rs966367  rs9839873  \n",
       "0  0.036712   0.094153  \n",
       "1  0.036739   0.086851  \n",
       "2  0.916638   0.447129  \n",
       "3  0.940750   0.241967  \n",
       "4  0.519334   0.053877  \n",
       "\n",
       "[5 rows x 5002 columns]"
      ],
      "text/html": [
       "<div>\n",
       "<style scoped>\n",
       "    .dataframe tbody tr th:only-of-type {\n",
       "        vertical-align: middle;\n",
       "    }\n",
       "\n",
       "    .dataframe tbody tr th {\n",
       "        vertical-align: top;\n",
       "    }\n",
       "\n",
       "    .dataframe thead th {\n",
       "        text-align: right;\n",
       "    }\n",
       "</style>\n",
       "<table border=\"1\" class=\"dataframe\">\n",
       "  <thead>\n",
       "    <tr style=\"text-align: right;\">\n",
       "      <th></th>\n",
       "      <th>Unnamed: 0</th>\n",
       "      <th>Label</th>\n",
       "      <th>cg00002719</th>\n",
       "      <th>cg00020191</th>\n",
       "      <th>cg00021558</th>\n",
       "      <th>cg00024472</th>\n",
       "      <th>cg00058329</th>\n",
       "      <th>cg00060320</th>\n",
       "      <th>cg00063174</th>\n",
       "      <th>cg00063471</th>\n",
       "      <th>...</th>\n",
       "      <th>rs7746156</th>\n",
       "      <th>rs798149</th>\n",
       "      <th>rs845016</th>\n",
       "      <th>rs877309</th>\n",
       "      <th>rs9292570</th>\n",
       "      <th>rs9363764</th>\n",
       "      <th>rs939290</th>\n",
       "      <th>rs951295</th>\n",
       "      <th>rs966367</th>\n",
       "      <th>rs9839873</th>\n",
       "    </tr>\n",
       "  </thead>\n",
       "  <tbody>\n",
       "    <tr>\n",
       "      <th>0</th>\n",
       "      <td>TCGA.3L.AA1B.01</td>\n",
       "      <td>Primary Tumor</td>\n",
       "      <td>0.425515</td>\n",
       "      <td>0.436703</td>\n",
       "      <td>0.470791</td>\n",
       "      <td>0.489124</td>\n",
       "      <td>0.520848</td>\n",
       "      <td>0.564841</td>\n",
       "      <td>0.027920</td>\n",
       "      <td>0.364866</td>\n",
       "      <td>...</td>\n",
       "      <td>0.017584</td>\n",
       "      <td>0.015110</td>\n",
       "      <td>0.578530</td>\n",
       "      <td>0.473453</td>\n",
       "      <td>0.963402</td>\n",
       "      <td>0.047875</td>\n",
       "      <td>0.961194</td>\n",
       "      <td>0.508204</td>\n",
       "      <td>0.036712</td>\n",
       "      <td>0.094153</td>\n",
       "    </tr>\n",
       "    <tr>\n",
       "      <th>1</th>\n",
       "      <td>TCGA.4N.A93T.01</td>\n",
       "      <td>Primary Tumor</td>\n",
       "      <td>0.672130</td>\n",
       "      <td>0.106270</td>\n",
       "      <td>0.155840</td>\n",
       "      <td>0.543090</td>\n",
       "      <td>0.844422</td>\n",
       "      <td>0.278043</td>\n",
       "      <td>0.038139</td>\n",
       "      <td>0.053559</td>\n",
       "      <td>...</td>\n",
       "      <td>0.455199</td>\n",
       "      <td>0.966917</td>\n",
       "      <td>0.488998</td>\n",
       "      <td>0.022801</td>\n",
       "      <td>0.966083</td>\n",
       "      <td>0.547980</td>\n",
       "      <td>0.937287</td>\n",
       "      <td>0.762945</td>\n",
       "      <td>0.036739</td>\n",
       "      <td>0.086851</td>\n",
       "    </tr>\n",
       "    <tr>\n",
       "      <th>2</th>\n",
       "      <td>TCGA.4T.AA8H.01</td>\n",
       "      <td>Primary Tumor</td>\n",
       "      <td>0.748268</td>\n",
       "      <td>0.164050</td>\n",
       "      <td>0.311851</td>\n",
       "      <td>0.569771</td>\n",
       "      <td>0.807615</td>\n",
       "      <td>0.093203</td>\n",
       "      <td>0.766712</td>\n",
       "      <td>0.750500</td>\n",
       "      <td>...</td>\n",
       "      <td>0.376560</td>\n",
       "      <td>0.967753</td>\n",
       "      <td>0.924707</td>\n",
       "      <td>0.017236</td>\n",
       "      <td>0.413866</td>\n",
       "      <td>0.046266</td>\n",
       "      <td>0.023421</td>\n",
       "      <td>0.971497</td>\n",
       "      <td>0.916638</td>\n",
       "      <td>0.447129</td>\n",
       "    </tr>\n",
       "    <tr>\n",
       "      <th>3</th>\n",
       "      <td>TCGA.5M.AAT4.01</td>\n",
       "      <td>Primary Tumor</td>\n",
       "      <td>0.734855</td>\n",
       "      <td>0.305086</td>\n",
       "      <td>0.124479</td>\n",
       "      <td>0.606617</td>\n",
       "      <td>0.643406</td>\n",
       "      <td>0.601940</td>\n",
       "      <td>0.558619</td>\n",
       "      <td>0.517065</td>\n",
       "      <td>...</td>\n",
       "      <td>0.967592</td>\n",
       "      <td>0.967524</td>\n",
       "      <td>0.908705</td>\n",
       "      <td>0.248435</td>\n",
       "      <td>0.020239</td>\n",
       "      <td>0.692241</td>\n",
       "      <td>0.952129</td>\n",
       "      <td>0.973124</td>\n",
       "      <td>0.940750</td>\n",
       "      <td>0.241967</td>\n",
       "    </tr>\n",
       "    <tr>\n",
       "      <th>4</th>\n",
       "      <td>TCGA.5M.AAT5.01</td>\n",
       "      <td>Primary Tumor</td>\n",
       "      <td>0.784616</td>\n",
       "      <td>0.098849</td>\n",
       "      <td>0.062913</td>\n",
       "      <td>0.012552</td>\n",
       "      <td>0.121438</td>\n",
       "      <td>0.224108</td>\n",
       "      <td>0.521054</td>\n",
       "      <td>0.032354</td>\n",
       "      <td>...</td>\n",
       "      <td>0.480225</td>\n",
       "      <td>0.386619</td>\n",
       "      <td>0.844465</td>\n",
       "      <td>0.222554</td>\n",
       "      <td>0.178524</td>\n",
       "      <td>0.029880</td>\n",
       "      <td>0.478118</td>\n",
       "      <td>0.970486</td>\n",
       "      <td>0.519334</td>\n",
       "      <td>0.053877</td>\n",
       "    </tr>\n",
       "  </tbody>\n",
       "</table>\n",
       "<p>5 rows × 5002 columns</p>\n",
       "</div>"
      ]
     },
     "execution_count": 33,
     "metadata": {},
     "output_type": "execute_result"
    }
   ],
   "execution_count": 33
  },
  {
   "metadata": {
    "ExecuteTime": {
     "end_time": "2025-09-29T07:31:53.930765Z",
     "start_time": "2025-09-29T07:31:53.927504Z"
    }
   },
   "cell_type": "code",
   "source": "dna_meth[\"Label\"].describe()",
   "id": "213930d921c6264b",
   "outputs": [
    {
     "data": {
      "text/plain": [
       "count               333\n",
       "unique                2\n",
       "top       Primary Tumor\n",
       "freq                295\n",
       "Name: Label, dtype: object"
      ]
     },
     "execution_count": 34,
     "metadata": {},
     "output_type": "execute_result"
    }
   ],
   "execution_count": 34
  },
  {
   "metadata": {
    "ExecuteTime": {
     "end_time": "2025-09-29T07:31:54.432764Z",
     "start_time": "2025-09-29T07:31:54.424623Z"
    }
   },
   "cell_type": "code",
   "source": "gene_expr.head()",
   "id": "e9d8318b073f76e6",
   "outputs": [
    {
     "data": {
      "text/plain": [
       "        Unnamed: 0          Label  ..100130426  ..100133144  ..100134869  \\\n",
       "0  TCGA.3L.AA1B.01  Primary Tumor       0.5174      18.0851      15.7640   \n",
       "1  TCGA.4N.A93T.01  Primary Tumor       0.0000       4.4315       4.2767   \n",
       "2  TCGA.4T.AA8H.01  Primary Tumor       0.0000       9.8995      11.3032   \n",
       "3  TCGA.5M.AAT4.01  Primary Tumor       0.0000       7.9174      18.7608   \n",
       "4  TCGA.5M.AAT5.01  Primary Tumor       0.0000      12.2565      20.8826   \n",
       "\n",
       "    ..10357    ..10431  ..136542  ..155060  ..26823  ...  ZXDA.7789  \\\n",
       "0  144.4004   774.6615       0.0  441.9729   1.9342  ...    71.0832   \n",
       "1  142.6609  1185.2927       0.0  522.0126   0.4838  ...    39.6710   \n",
       "2  143.1987   888.3202       0.0  288.0643   2.9245  ...    31.4385   \n",
       "3  146.1876  1280.5508       0.0  379.5181   2.1515  ...    54.6472   \n",
       "4  262.5109  1299.8431       0.0  279.4564   0.9892  ...    29.1822   \n",
       "\n",
       "   ZXDB.158586  ZXDC.79364  ZYG11A.440590  ZYG11B.79699   ZYX.7791  \\\n",
       "0     461.3153   1105.4159         3.3849      543.0368  6259.1876   \n",
       "1     366.7150   1149.4920         0.4838      290.7596  4653.1205   \n",
       "2     349.4791   1083.5313         0.0000      669.7130  4460.6105   \n",
       "3     542.1687   1374.3546         0.4303      445.3528  4190.1893   \n",
       "4     428.3349   1240.9841         3.4623      550.5043  3878.2609   \n",
       "\n",
       "   ZZEF1.23140  ZZZ3.26009  psiTPTE22.387590  tAKR.389932  \n",
       "0    1358.3172    798.3559           13.0561       0.0000  \n",
       "1    1220.1258    333.8171            1.9352       0.9676  \n",
       "2    3002.0106    530.0676            2.1934       0.0000  \n",
       "3    1093.3735    574.4406            6.4544       0.4303  \n",
       "4    1016.4298    413.0019           17.3115       0.0000  \n",
       "\n",
       "[5 rows x 20533 columns]"
      ],
      "text/html": [
       "<div>\n",
       "<style scoped>\n",
       "    .dataframe tbody tr th:only-of-type {\n",
       "        vertical-align: middle;\n",
       "    }\n",
       "\n",
       "    .dataframe tbody tr th {\n",
       "        vertical-align: top;\n",
       "    }\n",
       "\n",
       "    .dataframe thead th {\n",
       "        text-align: right;\n",
       "    }\n",
       "</style>\n",
       "<table border=\"1\" class=\"dataframe\">\n",
       "  <thead>\n",
       "    <tr style=\"text-align: right;\">\n",
       "      <th></th>\n",
       "      <th>Unnamed: 0</th>\n",
       "      <th>Label</th>\n",
       "      <th>..100130426</th>\n",
       "      <th>..100133144</th>\n",
       "      <th>..100134869</th>\n",
       "      <th>..10357</th>\n",
       "      <th>..10431</th>\n",
       "      <th>..136542</th>\n",
       "      <th>..155060</th>\n",
       "      <th>..26823</th>\n",
       "      <th>...</th>\n",
       "      <th>ZXDA.7789</th>\n",
       "      <th>ZXDB.158586</th>\n",
       "      <th>ZXDC.79364</th>\n",
       "      <th>ZYG11A.440590</th>\n",
       "      <th>ZYG11B.79699</th>\n",
       "      <th>ZYX.7791</th>\n",
       "      <th>ZZEF1.23140</th>\n",
       "      <th>ZZZ3.26009</th>\n",
       "      <th>psiTPTE22.387590</th>\n",
       "      <th>tAKR.389932</th>\n",
       "    </tr>\n",
       "  </thead>\n",
       "  <tbody>\n",
       "    <tr>\n",
       "      <th>0</th>\n",
       "      <td>TCGA.3L.AA1B.01</td>\n",
       "      <td>Primary Tumor</td>\n",
       "      <td>0.5174</td>\n",
       "      <td>18.0851</td>\n",
       "      <td>15.7640</td>\n",
       "      <td>144.4004</td>\n",
       "      <td>774.6615</td>\n",
       "      <td>0.0</td>\n",
       "      <td>441.9729</td>\n",
       "      <td>1.9342</td>\n",
       "      <td>...</td>\n",
       "      <td>71.0832</td>\n",
       "      <td>461.3153</td>\n",
       "      <td>1105.4159</td>\n",
       "      <td>3.3849</td>\n",
       "      <td>543.0368</td>\n",
       "      <td>6259.1876</td>\n",
       "      <td>1358.3172</td>\n",
       "      <td>798.3559</td>\n",
       "      <td>13.0561</td>\n",
       "      <td>0.0000</td>\n",
       "    </tr>\n",
       "    <tr>\n",
       "      <th>1</th>\n",
       "      <td>TCGA.4N.A93T.01</td>\n",
       "      <td>Primary Tumor</td>\n",
       "      <td>0.0000</td>\n",
       "      <td>4.4315</td>\n",
       "      <td>4.2767</td>\n",
       "      <td>142.6609</td>\n",
       "      <td>1185.2927</td>\n",
       "      <td>0.0</td>\n",
       "      <td>522.0126</td>\n",
       "      <td>0.4838</td>\n",
       "      <td>...</td>\n",
       "      <td>39.6710</td>\n",
       "      <td>366.7150</td>\n",
       "      <td>1149.4920</td>\n",
       "      <td>0.4838</td>\n",
       "      <td>290.7596</td>\n",
       "      <td>4653.1205</td>\n",
       "      <td>1220.1258</td>\n",
       "      <td>333.8171</td>\n",
       "      <td>1.9352</td>\n",
       "      <td>0.9676</td>\n",
       "    </tr>\n",
       "    <tr>\n",
       "      <th>2</th>\n",
       "      <td>TCGA.4T.AA8H.01</td>\n",
       "      <td>Primary Tumor</td>\n",
       "      <td>0.0000</td>\n",
       "      <td>9.8995</td>\n",
       "      <td>11.3032</td>\n",
       "      <td>143.1987</td>\n",
       "      <td>888.3202</td>\n",
       "      <td>0.0</td>\n",
       "      <td>288.0643</td>\n",
       "      <td>2.9245</td>\n",
       "      <td>...</td>\n",
       "      <td>31.4385</td>\n",
       "      <td>349.4791</td>\n",
       "      <td>1083.5313</td>\n",
       "      <td>0.0000</td>\n",
       "      <td>669.7130</td>\n",
       "      <td>4460.6105</td>\n",
       "      <td>3002.0106</td>\n",
       "      <td>530.0676</td>\n",
       "      <td>2.1934</td>\n",
       "      <td>0.0000</td>\n",
       "    </tr>\n",
       "    <tr>\n",
       "      <th>3</th>\n",
       "      <td>TCGA.5M.AAT4.01</td>\n",
       "      <td>Primary Tumor</td>\n",
       "      <td>0.0000</td>\n",
       "      <td>7.9174</td>\n",
       "      <td>18.7608</td>\n",
       "      <td>146.1876</td>\n",
       "      <td>1280.5508</td>\n",
       "      <td>0.0</td>\n",
       "      <td>379.5181</td>\n",
       "      <td>2.1515</td>\n",
       "      <td>...</td>\n",
       "      <td>54.6472</td>\n",
       "      <td>542.1687</td>\n",
       "      <td>1374.3546</td>\n",
       "      <td>0.4303</td>\n",
       "      <td>445.3528</td>\n",
       "      <td>4190.1893</td>\n",
       "      <td>1093.3735</td>\n",
       "      <td>574.4406</td>\n",
       "      <td>6.4544</td>\n",
       "      <td>0.4303</td>\n",
       "    </tr>\n",
       "    <tr>\n",
       "      <th>4</th>\n",
       "      <td>TCGA.5M.AAT5.01</td>\n",
       "      <td>Primary Tumor</td>\n",
       "      <td>0.0000</td>\n",
       "      <td>12.2565</td>\n",
       "      <td>20.8826</td>\n",
       "      <td>262.5109</td>\n",
       "      <td>1299.8431</td>\n",
       "      <td>0.0</td>\n",
       "      <td>279.4564</td>\n",
       "      <td>0.9892</td>\n",
       "      <td>...</td>\n",
       "      <td>29.1822</td>\n",
       "      <td>428.3349</td>\n",
       "      <td>1240.9841</td>\n",
       "      <td>3.4623</td>\n",
       "      <td>550.5043</td>\n",
       "      <td>3878.2609</td>\n",
       "      <td>1016.4298</td>\n",
       "      <td>413.0019</td>\n",
       "      <td>17.3115</td>\n",
       "      <td>0.0000</td>\n",
       "    </tr>\n",
       "  </tbody>\n",
       "</table>\n",
       "<p>5 rows × 20533 columns</p>\n",
       "</div>"
      ]
     },
     "execution_count": 35,
     "metadata": {},
     "output_type": "execute_result"
    }
   ],
   "execution_count": 35
  },
  {
   "metadata": {
    "ExecuteTime": {
     "end_time": "2025-09-29T07:31:55.566448Z",
     "start_time": "2025-09-29T07:31:55.563475Z"
    }
   },
   "cell_type": "code",
   "source": "gene_expr[\"Label\"].describe()",
   "id": "29f44572a6fa80de",
   "outputs": [
    {
     "data": {
      "text/plain": [
       "count               326\n",
       "unique                2\n",
       "top       Primary Tumor\n",
       "freq                285\n",
       "Name: Label, dtype: object"
      ]
     },
     "execution_count": 36,
     "metadata": {},
     "output_type": "execute_result"
    }
   ],
   "execution_count": 36
  },
  {
   "metadata": {
    "ExecuteTime": {
     "end_time": "2025-09-29T07:31:55.666368Z",
     "start_time": "2025-09-29T07:31:55.664679Z"
    }
   },
   "cell_type": "code",
   "source": [
    "def score(pred, true):\n",
    "    recall = recall_score(true, pred, pos_label=\"Primary Tumor\")\n",
    "    precision = precision_score(true, pred, pos_label=\"Primary Tumor\")\n",
    "    accuracy = accuracy_score(true, pred)\n",
    "\n",
    "    return {\"recall\": recall, \"precision\": precision, \"accuracy\": accuracy}"
   ],
   "id": "e56196fb4a2946a",
   "outputs": [],
   "execution_count": 37
  },
  {
   "metadata": {
    "ExecuteTime": {
     "end_time": "2025-09-29T07:31:55.775226Z",
     "start_time": "2025-09-29T07:31:55.767735Z"
    }
   },
   "cell_type": "code",
   "source": [
    "meth_features = dna_meth.columns[2:]\n",
    "\n",
    "Y_meth = dna_meth[\"Label\"]\n",
    "X_meth = dna_meth[meth_features]\n",
    "\n",
    "X_meth_train, X_meth_test, Y_meth_train, Y_meth_test = train_test_split(X_meth, Y_meth, test_size=0.2, random_state=3141, stratify=Y_meth)"
   ],
   "id": "4476577a21b9f245",
   "outputs": [],
   "execution_count": 38
  },
  {
   "metadata": {
    "ExecuteTime": {
     "end_time": "2025-09-29T07:31:56.078210Z",
     "start_time": "2025-09-29T07:31:55.815003Z"
    }
   },
   "cell_type": "code",
   "source": [
    "meth_tree = DecisionTreeClassifier()\n",
    "meth_tree.fit(X_meth_train, Y_meth_train)\n",
    "\n",
    "meth_prediction = meth_tree.predict(X_meth_test)\n",
    "print(score(meth_prediction, Y_meth_test))\n",
    "\n",
    "tree.plot_tree(meth_tree, feature_names=meth_features)\n",
    "plt.show()"
   ],
   "id": "7e208b787bc917ba",
   "outputs": [
    {
     "name": "stdout",
     "output_type": "stream",
     "text": [
      "{'recall': 1.0, 'precision': 0.9833333333333333, 'accuracy': 0.9850746268656716}\n"
     ]
    },
    {
     "data": {
      "text/plain": [
       "<Figure size 640x480 with 1 Axes>"
      ],
      "image/png": "[encoded data removed]"
     },
     "metadata": {},
     "output_type": "display_data",
     "jetTransient": {
      "display_id": null
     }
    }
   ],
   "execution_count": 39
  },
  {
   "metadata": {
    "ExecuteTime": {
     "end_time": "2025-09-29T07:32:54.902918Z",
     "start_time": "2025-09-29T07:32:54.013897Z"
    }
   },
   "cell_type": "code",
   "source": [
    "meth_forest = RandomForestClassifier(n_estimators=500)\n",
    "meth_forest.fit(X_meth_train, Y_meth_train)\n",
    "meth_forest_prediction = meth_forest.predict(X_meth_test)\n",
    "print(score(meth_forest_prediction, Y_meth_test))\n",
    "\n",
    "# Map to feature names\n",
    "feature_importance_df = pd.DataFrame({\n",
    "    'feature': X_meth_train.columns,\n",
    "    'importance': meth_forest.feature_importances_\n",
    "}).sort_values(by='importance', ascending=False)\n",
    "\n",
    "print(feature_importance_df.head(20))"
   ],
   "id": "4c8512e8b178ced4",
   "outputs": [
    {
     "name": "stdout",
     "output_type": "stream",
     "text": [
      "{'recall': 1.0, 'precision': 1.0, 'accuracy': 1.0}\n",
      "         feature  importance\n",
      "3952  cg21646598    0.019399\n",
      "657   cg03414318    0.014929\n",
      "3011  cg16300300    0.013161\n",
      "3330  cg17872757    0.012761\n",
      "3114  cg16734433    0.012725\n",
      "1121  cg06072021    0.012431\n",
      "1713  cg09170112    0.012412\n",
      "150   cg00817367    0.012118\n",
      "2780  cg14861089    0.011930\n",
      "756   cg04025964    0.011506\n",
      "3724  cg20219457    0.011338\n",
      "875   cg04747226    0.010982\n",
      "81    cg00488788    0.010266\n",
      "561   cg02914087    0.010110\n",
      "1479  cg07974511    0.010110\n",
      "616   cg03257172    0.010082\n",
      "3012  cg16302790    0.010037\n",
      "1515  cg08189989    0.010005\n",
      "2745  cg14650610    0.009673\n",
      "2643  cg14175690    0.009606\n"
     ]
    }
   ],
   "execution_count": 44
  },
  {
   "metadata": {
    "ExecuteTime": {
     "end_time": "2025-09-29T07:31:57.810846Z",
     "start_time": "2025-09-29T07:31:57.786401Z"
    }
   },
   "cell_type": "code",
   "source": [
    "gene_features = gene_expr.columns[2:]\n",
    "\n",
    "Y_gene = gene_expr[\"Label\"]\n",
    "X_gene = gene_expr[gene_features]\n",
    "\n",
    "X_gene_train, X_gene_test, Y_gene_train, Y_gene_test = train_test_split(X_gene, Y_gene, test_size=0.2, random_state=1223, stratify=Y_gene)"
   ],
   "id": "27f47a801b72d0e8",
   "outputs": [],
   "execution_count": 41
  },
  {
   "metadata": {
    "ExecuteTime": {
     "end_time": "2025-09-29T07:31:58.236203Z",
     "start_time": "2025-09-29T07:31:57.833144Z"
    }
   },
   "cell_type": "code",
   "source": [
    "gene_tree = DecisionTreeClassifier()\n",
    "gene_tree.fit(X_gene_train, Y_gene_train)\n",
    "\n",
    "gene_prediction = gene_tree.predict(X_gene_test)\n",
    "print(score(gene_prediction, Y_gene_test))\n",
    "\n",
    "tree.plot_tree(gene_tree, feature_names=gene_features)\n",
    "plt.show()"
   ],
   "id": "22f8f30a23878c8",
   "outputs": [
    {
     "name": "stdout",
     "output_type": "stream",
     "text": [
      "{'recall': 1.0, 'precision': 1.0, 'accuracy': 1.0}\n"
     ]
    },
    {
     "data": {
      "text/plain": [
       "<Figure size 640x480 with 1 Axes>"
      ],
      "image/png": "[encoded data removed]"
     },
     "metadata": {},
     "output_type": "display_data",
     "jetTransient": {
      "display_id": null
     }
    }
   ],
   "execution_count": 42
  },
  {
   "metadata": {
    "ExecuteTime": {
     "end_time": "2025-09-29T07:33:03.371671Z",
     "start_time": "2025-09-29T07:33:01.955080Z"
    }
   },
   "cell_type": "code",
   "source": [
    "gene_forest = RandomForestClassifier(n_estimators=500)\n",
    "gene_forest.fit(X_gene_train, Y_gene_train)\n",
    "gene_forest_prediction = gene_forest.predict(X_gene_test)\n",
    "print(score(gene_forest_prediction, Y_gene_test))\n",
    "\n",
    "# Map to feature names\n",
    "feature_importance_df = pd.DataFrame({\n",
    "    'feature': X_gene_train.columns,\n",
    "    'importance': gene_forest.feature_importances_\n",
    "}).sort_values(by='importance', ascending=False)\n",
    "\n",
    "print(feature_importance_df.head(20))"
   ],
   "id": "f9ddf68628bd5189",
   "outputs": [
    {
     "name": "stdout",
     "output_type": "stream",
     "text": [
      "{'recall': 1.0, 'precision': 1.0, 'accuracy': 1.0}\n",
      "              feature  importance\n",
      "12786     OTOP2.92736    0.023530\n",
      "8443        IL6R.3570    0.012473\n",
      "5752        ETV4.2118    0.011783\n",
      "18364   TMIGD1.388364    0.011178\n",
      "15546   SCARA5.286133    0.010749\n",
      "15593      SCGN.10590    0.010149\n",
      "7087       GLP2R.9340    0.009979\n",
      "2842          CA7.766    0.009917\n",
      "16328  SLC39A10.57181    0.009423\n",
      "8976   KIAA1199.57214    0.009215\n",
      "15740    SEMA6D.80031    0.009108\n",
      "15371    RSPO2.340419    0.009010\n",
      "7257      GPD1L.23171    0.008131\n",
      "8718        JUB.84962    0.008080\n",
      "9268     KRT80.144501    0.008000\n",
      "10190  LOC92659.92659    0.008000\n",
      "3870      CLEC3B.7123    0.007953\n",
      "12787    OTOP3.347741    0.007633\n",
      "18630     TRIB3.57761    0.007517\n",
      "8665      ITM2C.81618    0.007508\n"
     ]
    }
   ],
   "execution_count": 45
  }
 ],
 "metadata": {
  "kernelspec": {
   "display_name": "Python 3",
   "language": "python",
   "name": "python3"
  },
  "language_info": {
   "codemirror_mode": {
    "name": "ipython",
    "version": 2
   },
   "file_extension": ".py",
   "mimetype": "text/x-python",
   "name": "python",
   "nbconvert_exporter": "python",
   "pygments_lexer": "ipython2",
   "version": "2.7.6"
  }
 },
 "nbformat": 4,
 "nbformat_minor": 5
}
