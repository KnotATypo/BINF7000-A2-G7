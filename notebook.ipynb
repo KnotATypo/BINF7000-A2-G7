{
 "cells": [
  {
   "cell_type": "code",
   "id": "initial_id",
   "metadata": {
    "collapsed": true,
    "ExecuteTime": {
     "end_time": "2025-09-25T11:49:51.969849Z",
     "start_time": "2025-09-25T11:49:51.968220Z"
    }
   },
   "source": [
    "import matplotlib.pyplot as plt\n",
    "import pandas as pd\n",
    "from sklearn import tree\n",
    "from sklearn.metrics import recall_score, accuracy_score, precision_score\n",
    "from sklearn.model_selection import train_test_split\n",
    "from sklearn.tree import DecisionTreeClassifier"
   ],
   "outputs": [],
   "execution_count": 94
  },
  {
   "metadata": {
    "ExecuteTime": {
     "end_time": "2025-09-25T11:49:53.160668Z",
     "start_time": "2025-09-25T11:49:51.995675Z"
    }
   },
   "cell_type": "code",
   "source": [
    "dna_meth = pd.read_csv(\"data/G7_colon_dna-meth.csv\")\n",
    "gene_expr = pd.read_csv(\"data/G7_colon_gene-expr.csv\")"
   ],
   "id": "25fb0c83295678f9",
   "outputs": [],
   "execution_count": 95
  },
  {
   "metadata": {
    "ExecuteTime": {
     "end_time": "2025-09-25T11:49:53.223487Z",
     "start_time": "2025-09-25T11:49:53.217549Z"
    }
   },
   "cell_type": "code",
   "source": "dna_meth.head()",
   "id": "b02f40e31ae76618",
   "outputs": [
    {
     "data": {
      "text/plain": [
       "        Unnamed: 0          Label        cg00002719         cg00020191  \\\n",
       "0  TCGA.3L.AA1B.01  Primary Tumor 0.425515340169044  0.436703357667433   \n",
       "1  TCGA.4N.A93T.01  Primary Tumor 0.672130323413734   0.10626979613926   \n",
       "2  TCGA.4T.AA8H.01  Primary Tumor  0.74826836671075  0.164049566424512   \n",
       "3  TCGA.5M.AAT4.01  Primary Tumor 0.734855490246631  0.305086047063093   \n",
       "4  TCGA.5M.AAT5.01  Primary Tumor  0.78461624539004 0.0988487165683449   \n",
       "\n",
       "          cg00021558         cg00024472        cg00058329         cg00060320  \\\n",
       "0  0.470790835061903  0.489124271628047  0.52084774284631  0.564841014790932   \n",
       "1  0.155839750404878  0.543090262188981 0.844421666654906  0.278042773526397   \n",
       "2  0.311851441452116  0.569770878584933 0.807615144430919 0.0932031942846083   \n",
       "3  0.124479170550199  0.606617002404142 0.643406060721726   0.60194009226437   \n",
       "4 0.0629133879972525 0.0125516192807167 0.121437726286756  0.224107517298674   \n",
       "\n",
       "          cg00063174         cg00063471  ...          rs7746156  \\\n",
       "0 0.0279196512867719  0.364866162056129  ... 0.0175844325128677   \n",
       "1  0.038138739195241 0.0535587690237532  ...  0.455199169881816   \n",
       "2  0.766712393956006  0.750499791411135  ...  0.376559610507894   \n",
       "3  0.558618823480556  0.517065386433308  ...  0.967591626967765   \n",
       "4  0.521053896342493 0.0323537249694464  ...  0.480225335427129   \n",
       "\n",
       "            rs798149          rs845016           rs877309          rs9292570  \\\n",
       "0 0.0151095416768205 0.578529566235385  0.473453344100523  0.963401647102576   \n",
       "1   0.96691708815921 0.488997628813778 0.0228005843469781  0.966083202332779   \n",
       "2  0.967752730410444 0.924706926203451 0.0172364995369275  0.413865669139588   \n",
       "3  0.967524296057652 0.908704835610158  0.248435252790084 0.0202388378005258   \n",
       "4  0.386619383681699 0.844464556390964  0.222553852682295  0.178523603022226   \n",
       "\n",
       "           rs9363764          rs939290          rs951295           rs966367  \\\n",
       "0 0.0478745323421775 0.961193988604392 0.508204307398672 0.0367115381427066   \n",
       "1   0.54798009148647 0.937287272777887  0.76294459961883 0.0367386049916784   \n",
       "2 0.0462664208266275 0.023421491544841 0.971496749172563   0.91663819497936   \n",
       "3  0.692241160044453 0.952129112317728 0.973124487108514  0.940749914600556   \n",
       "4 0.0298799705428059 0.478118228166797 0.970486035475278  0.519333524911576   \n",
       "\n",
       "           rs9839873  \n",
       "0  0.094152880646695  \n",
       "1 0.0868508376468331  \n",
       "2  0.447129471461788  \n",
       "3  0.241966797160835  \n",
       "4 0.0538768792072756  \n",
       "\n",
       "[5 rows x 5002 columns]"
      ],
      "text/html": [
       "<div>\n",
       "<style scoped>\n",
       "    .dataframe tbody tr th:only-of-type {\n",
       "        vertical-align: middle;\n",
       "    }\n",
       "\n",
       "    .dataframe tbody tr th {\n",
       "        vertical-align: top;\n",
       "    }\n",
       "\n",
       "    .dataframe thead th {\n",
       "        text-align: right;\n",
       "    }\n",
       "</style>\n",
       "<table border=\"1\" class=\"dataframe\">\n",
       "  <thead>\n",
       "    <tr style=\"text-align: right;\">\n",
       "      <th></th>\n",
       "      <th>Unnamed: 0</th>\n",
       "      <th>Label</th>\n",
       "      <th>cg00002719</th>\n",
       "      <th>cg00020191</th>\n",
       "      <th>cg00021558</th>\n",
       "      <th>cg00024472</th>\n",
       "      <th>cg00058329</th>\n",
       "      <th>cg00060320</th>\n",
       "      <th>cg00063174</th>\n",
       "      <th>cg00063471</th>\n",
       "      <th>...</th>\n",
       "      <th>rs7746156</th>\n",
       "      <th>rs798149</th>\n",
       "      <th>rs845016</th>\n",
       "      <th>rs877309</th>\n",
       "      <th>rs9292570</th>\n",
       "      <th>rs9363764</th>\n",
       "      <th>rs939290</th>\n",
       "      <th>rs951295</th>\n",
       "      <th>rs966367</th>\n",
       "      <th>rs9839873</th>\n",
       "    </tr>\n",
       "  </thead>\n",
       "  <tbody>\n",
       "    <tr>\n",
       "      <th>0</th>\n",
       "      <td>TCGA.3L.AA1B.01</td>\n",
       "      <td>Primary Tumor</td>\n",
       "      <td>0.425515340169044</td>\n",
       "      <td>0.436703357667433</td>\n",
       "      <td>0.470790835061903</td>\n",
       "      <td>0.489124271628047</td>\n",
       "      <td>0.52084774284631</td>\n",
       "      <td>0.564841014790932</td>\n",
       "      <td>0.0279196512867719</td>\n",
       "      <td>0.364866162056129</td>\n",
       "      <td>...</td>\n",
       "      <td>0.0175844325128677</td>\n",
       "      <td>0.0151095416768205</td>\n",
       "      <td>0.578529566235385</td>\n",
       "      <td>0.473453344100523</td>\n",
       "      <td>0.963401647102576</td>\n",
       "      <td>0.0478745323421775</td>\n",
       "      <td>0.961193988604392</td>\n",
       "      <td>0.508204307398672</td>\n",
       "      <td>0.0367115381427066</td>\n",
       "      <td>0.094152880646695</td>\n",
       "    </tr>\n",
       "    <tr>\n",
       "      <th>1</th>\n",
       "      <td>TCGA.4N.A93T.01</td>\n",
       "      <td>Primary Tumor</td>\n",
       "      <td>0.672130323413734</td>\n",
       "      <td>0.10626979613926</td>\n",
       "      <td>0.155839750404878</td>\n",
       "      <td>0.543090262188981</td>\n",
       "      <td>0.844421666654906</td>\n",
       "      <td>0.278042773526397</td>\n",
       "      <td>0.038138739195241</td>\n",
       "      <td>0.0535587690237532</td>\n",
       "      <td>...</td>\n",
       "      <td>0.455199169881816</td>\n",
       "      <td>0.96691708815921</td>\n",
       "      <td>0.488997628813778</td>\n",
       "      <td>0.0228005843469781</td>\n",
       "      <td>0.966083202332779</td>\n",
       "      <td>0.54798009148647</td>\n",
       "      <td>0.937287272777887</td>\n",
       "      <td>0.76294459961883</td>\n",
       "      <td>0.0367386049916784</td>\n",
       "      <td>0.0868508376468331</td>\n",
       "    </tr>\n",
       "    <tr>\n",
       "      <th>2</th>\n",
       "      <td>TCGA.4T.AA8H.01</td>\n",
       "      <td>Primary Tumor</td>\n",
       "      <td>0.74826836671075</td>\n",
       "      <td>0.164049566424512</td>\n",
       "      <td>0.311851441452116</td>\n",
       "      <td>0.569770878584933</td>\n",
       "      <td>0.807615144430919</td>\n",
       "      <td>0.0932031942846083</td>\n",
       "      <td>0.766712393956006</td>\n",
       "      <td>0.750499791411135</td>\n",
       "      <td>...</td>\n",
       "      <td>0.376559610507894</td>\n",
       "      <td>0.967752730410444</td>\n",
       "      <td>0.924706926203451</td>\n",
       "      <td>0.0172364995369275</td>\n",
       "      <td>0.413865669139588</td>\n",
       "      <td>0.0462664208266275</td>\n",
       "      <td>0.023421491544841</td>\n",
       "      <td>0.971496749172563</td>\n",
       "      <td>0.91663819497936</td>\n",
       "      <td>0.447129471461788</td>\n",
       "    </tr>\n",
       "    <tr>\n",
       "      <th>3</th>\n",
       "      <td>TCGA.5M.AAT4.01</td>\n",
       "      <td>Primary Tumor</td>\n",
       "      <td>0.734855490246631</td>\n",
       "      <td>0.305086047063093</td>\n",
       "      <td>0.124479170550199</td>\n",
       "      <td>0.606617002404142</td>\n",
       "      <td>0.643406060721726</td>\n",
       "      <td>0.60194009226437</td>\n",
       "      <td>0.558618823480556</td>\n",
       "      <td>0.517065386433308</td>\n",
       "      <td>...</td>\n",
       "      <td>0.967591626967765</td>\n",
       "      <td>0.967524296057652</td>\n",
       "      <td>0.908704835610158</td>\n",
       "      <td>0.248435252790084</td>\n",
       "      <td>0.0202388378005258</td>\n",
       "      <td>0.692241160044453</td>\n",
       "      <td>0.952129112317728</td>\n",
       "      <td>0.973124487108514</td>\n",
       "      <td>0.940749914600556</td>\n",
       "      <td>0.241966797160835</td>\n",
       "    </tr>\n",
       "    <tr>\n",
       "      <th>4</th>\n",
       "      <td>TCGA.5M.AAT5.01</td>\n",
       "      <td>Primary Tumor</td>\n",
       "      <td>0.78461624539004</td>\n",
       "      <td>0.0988487165683449</td>\n",
       "      <td>0.0629133879972525</td>\n",
       "      <td>0.0125516192807167</td>\n",
       "      <td>0.121437726286756</td>\n",
       "      <td>0.224107517298674</td>\n",
       "      <td>0.521053896342493</td>\n",
       "      <td>0.0323537249694464</td>\n",
       "      <td>...</td>\n",
       "      <td>0.480225335427129</td>\n",
       "      <td>0.386619383681699</td>\n",
       "      <td>0.844464556390964</td>\n",
       "      <td>0.222553852682295</td>\n",
       "      <td>0.178523603022226</td>\n",
       "      <td>0.0298799705428059</td>\n",
       "      <td>0.478118228166797</td>\n",
       "      <td>0.970486035475278</td>\n",
       "      <td>0.519333524911576</td>\n",
       "      <td>0.0538768792072756</td>\n",
       "    </tr>\n",
       "  </tbody>\n",
       "</table>\n",
       "<p>5 rows × 5002 columns</p>\n",
       "</div>"
      ]
     },
     "execution_count": 96,
     "metadata": {},
     "output_type": "execute_result"
    }
   ],
   "execution_count": 96
  },
  {
   "metadata": {
    "ExecuteTime": {
     "end_time": "2025-09-25T11:49:53.442105Z",
     "start_time": "2025-09-25T11:49:53.439114Z"
    }
   },
   "cell_type": "code",
   "source": "dna_meth[\"Label\"].describe()",
   "id": "213930d921c6264b",
   "outputs": [
    {
     "data": {
      "text/plain": [
       "count               333\n",
       "unique                2\n",
       "top       Primary Tumor\n",
       "freq                295\n",
       "Name: Label, dtype: object"
      ]
     },
     "execution_count": 97,
     "metadata": {},
     "output_type": "execute_result"
    }
   ],
   "execution_count": 97
  },
  {
   "metadata": {
    "ExecuteTime": {
     "end_time": "2025-09-25T11:49:53.842410Z",
     "start_time": "2025-09-25T11:49:53.837110Z"
    }
   },
   "cell_type": "code",
   "source": "gene_expr.head()",
   "id": "e9d8318b073f76e6",
   "outputs": [
    {
     "data": {
      "text/plain": [
       "        Unnamed: 0          Label  ..100130426  ..100133144  ..100134869  \\\n",
       "0  TCGA.3L.AA1B.01  Primary Tumor       0.5174      18.0851       15.764   \n",
       "1  TCGA.4N.A93T.01  Primary Tumor          0.0       4.4315       4.2767   \n",
       "2  TCGA.4T.AA8H.01  Primary Tumor          0.0       9.8995      11.3032   \n",
       "3  TCGA.5M.AAT4.01  Primary Tumor          0.0       7.9174      18.7608   \n",
       "4  TCGA.5M.AAT5.01  Primary Tumor          0.0      12.2565      20.8826   \n",
       "\n",
       "   ..10357   ..10431  ..136542  ..155060  ..26823  ...  ZXDA.7789  \\\n",
       "0 144.4004  774.6615       0.0  441.9729   1.9342  ...    71.0832   \n",
       "1 142.6609 1185.2927       0.0  522.0126   0.4838  ...     39.671   \n",
       "2 143.1987  888.3202       0.0  288.0643   2.9245  ...    31.4385   \n",
       "3 146.1876 1280.5508       0.0  379.5181   2.1515  ...    54.6472   \n",
       "4 262.5109 1299.8431       0.0  279.4564   0.9892  ...    29.1822   \n",
       "\n",
       "   ZXDB.158586  ZXDC.79364  ZYG11A.440590  ZYG11B.79699  ZYX.7791  \\\n",
       "0     461.3153   1105.4159         3.3849      543.0368 6259.1876   \n",
       "1      366.715    1149.492         0.4838      290.7596 4653.1205   \n",
       "2     349.4791   1083.5313            0.0       669.713 4460.6105   \n",
       "3     542.1687   1374.3546         0.4303      445.3528 4190.1893   \n",
       "4     428.3349   1240.9841         3.4623      550.5043 3878.2609   \n",
       "\n",
       "   ZZEF1.23140  ZZZ3.26009  psiTPTE22.387590  tAKR.389932  \n",
       "0    1358.3172    798.3559           13.0561          0.0  \n",
       "1    1220.1258    333.8171            1.9352       0.9676  \n",
       "2    3002.0106    530.0676            2.1934          0.0  \n",
       "3    1093.3735    574.4406            6.4544       0.4303  \n",
       "4    1016.4298    413.0019           17.3115          0.0  \n",
       "\n",
       "[5 rows x 20533 columns]"
      ],
      "text/html": [
       "<div>\n",
       "<style scoped>\n",
       "    .dataframe tbody tr th:only-of-type {\n",
       "        vertical-align: middle;\n",
       "    }\n",
       "\n",
       "    .dataframe tbody tr th {\n",
       "        vertical-align: top;\n",
       "    }\n",
       "\n",
       "    .dataframe thead th {\n",
       "        text-align: right;\n",
       "    }\n",
       "</style>\n",
       "<table border=\"1\" class=\"dataframe\">\n",
       "  <thead>\n",
       "    <tr style=\"text-align: right;\">\n",
       "      <th></th>\n",
       "      <th>Unnamed: 0</th>\n",
       "      <th>Label</th>\n",
       "      <th>..100130426</th>\n",
       "      <th>..100133144</th>\n",
       "      <th>..100134869</th>\n",
       "      <th>..10357</th>\n",
       "      <th>..10431</th>\n",
       "      <th>..136542</th>\n",
       "      <th>..155060</th>\n",
       "      <th>..26823</th>\n",
       "      <th>...</th>\n",
       "      <th>ZXDA.7789</th>\n",
       "      <th>ZXDB.158586</th>\n",
       "      <th>ZXDC.79364</th>\n",
       "      <th>ZYG11A.440590</th>\n",
       "      <th>ZYG11B.79699</th>\n",
       "      <th>ZYX.7791</th>\n",
       "      <th>ZZEF1.23140</th>\n",
       "      <th>ZZZ3.26009</th>\n",
       "      <th>psiTPTE22.387590</th>\n",
       "      <th>tAKR.389932</th>\n",
       "    </tr>\n",
       "  </thead>\n",
       "  <tbody>\n",
       "    <tr>\n",
       "      <th>0</th>\n",
       "      <td>TCGA.3L.AA1B.01</td>\n",
       "      <td>Primary Tumor</td>\n",
       "      <td>0.5174</td>\n",
       "      <td>18.0851</td>\n",
       "      <td>15.764</td>\n",
       "      <td>144.4004</td>\n",
       "      <td>774.6615</td>\n",
       "      <td>0.0</td>\n",
       "      <td>441.9729</td>\n",
       "      <td>1.9342</td>\n",
       "      <td>...</td>\n",
       "      <td>71.0832</td>\n",
       "      <td>461.3153</td>\n",
       "      <td>1105.4159</td>\n",
       "      <td>3.3849</td>\n",
       "      <td>543.0368</td>\n",
       "      <td>6259.1876</td>\n",
       "      <td>1358.3172</td>\n",
       "      <td>798.3559</td>\n",
       "      <td>13.0561</td>\n",
       "      <td>0.0</td>\n",
       "    </tr>\n",
       "    <tr>\n",
       "      <th>1</th>\n",
       "      <td>TCGA.4N.A93T.01</td>\n",
       "      <td>Primary Tumor</td>\n",
       "      <td>0.0</td>\n",
       "      <td>4.4315</td>\n",
       "      <td>4.2767</td>\n",
       "      <td>142.6609</td>\n",
       "      <td>1185.2927</td>\n",
       "      <td>0.0</td>\n",
       "      <td>522.0126</td>\n",
       "      <td>0.4838</td>\n",
       "      <td>...</td>\n",
       "      <td>39.671</td>\n",
       "      <td>366.715</td>\n",
       "      <td>1149.492</td>\n",
       "      <td>0.4838</td>\n",
       "      <td>290.7596</td>\n",
       "      <td>4653.1205</td>\n",
       "      <td>1220.1258</td>\n",
       "      <td>333.8171</td>\n",
       "      <td>1.9352</td>\n",
       "      <td>0.9676</td>\n",
       "    </tr>\n",
       "    <tr>\n",
       "      <th>2</th>\n",
       "      <td>TCGA.4T.AA8H.01</td>\n",
       "      <td>Primary Tumor</td>\n",
       "      <td>0.0</td>\n",
       "      <td>9.8995</td>\n",
       "      <td>11.3032</td>\n",
       "      <td>143.1987</td>\n",
       "      <td>888.3202</td>\n",
       "      <td>0.0</td>\n",
       "      <td>288.0643</td>\n",
       "      <td>2.9245</td>\n",
       "      <td>...</td>\n",
       "      <td>31.4385</td>\n",
       "      <td>349.4791</td>\n",
       "      <td>1083.5313</td>\n",
       "      <td>0.0</td>\n",
       "      <td>669.713</td>\n",
       "      <td>4460.6105</td>\n",
       "      <td>3002.0106</td>\n",
       "      <td>530.0676</td>\n",
       "      <td>2.1934</td>\n",
       "      <td>0.0</td>\n",
       "    </tr>\n",
       "    <tr>\n",
       "      <th>3</th>\n",
       "      <td>TCGA.5M.AAT4.01</td>\n",
       "      <td>Primary Tumor</td>\n",
       "      <td>0.0</td>\n",
       "      <td>7.9174</td>\n",
       "      <td>18.7608</td>\n",
       "      <td>146.1876</td>\n",
       "      <td>1280.5508</td>\n",
       "      <td>0.0</td>\n",
       "      <td>379.5181</td>\n",
       "      <td>2.1515</td>\n",
       "      <td>...</td>\n",
       "      <td>54.6472</td>\n",
       "      <td>542.1687</td>\n",
       "      <td>1374.3546</td>\n",
       "      <td>0.4303</td>\n",
       "      <td>445.3528</td>\n",
       "      <td>4190.1893</td>\n",
       "      <td>1093.3735</td>\n",
       "      <td>574.4406</td>\n",
       "      <td>6.4544</td>\n",
       "      <td>0.4303</td>\n",
       "    </tr>\n",
       "    <tr>\n",
       "      <th>4</th>\n",
       "      <td>TCGA.5M.AAT5.01</td>\n",
       "      <td>Primary Tumor</td>\n",
       "      <td>0.0</td>\n",
       "      <td>12.2565</td>\n",
       "      <td>20.8826</td>\n",
       "      <td>262.5109</td>\n",
       "      <td>1299.8431</td>\n",
       "      <td>0.0</td>\n",
       "      <td>279.4564</td>\n",
       "      <td>0.9892</td>\n",
       "      <td>...</td>\n",
       "      <td>29.1822</td>\n",
       "      <td>428.3349</td>\n",
       "      <td>1240.9841</td>\n",
       "      <td>3.4623</td>\n",
       "      <td>550.5043</td>\n",
       "      <td>3878.2609</td>\n",
       "      <td>1016.4298</td>\n",
       "      <td>413.0019</td>\n",
       "      <td>17.3115</td>\n",
       "      <td>0.0</td>\n",
       "    </tr>\n",
       "  </tbody>\n",
       "</table>\n",
       "<p>5 rows × 20533 columns</p>\n",
       "</div>"
      ]
     },
     "execution_count": 98,
     "metadata": {},
     "output_type": "execute_result"
    }
   ],
   "execution_count": 98
  },
  {
   "metadata": {
    "ExecuteTime": {
     "end_time": "2025-09-25T11:49:54.513111Z",
     "start_time": "2025-09-25T11:49:54.510112Z"
    }
   },
   "cell_type": "code",
   "source": "gene_expr[\"Label\"].describe()",
   "id": "29f44572a6fa80de",
   "outputs": [
    {
     "data": {
      "text/plain": [
       "count               326\n",
       "unique                2\n",
       "top       Primary Tumor\n",
       "freq                285\n",
       "Name: Label, dtype: object"
      ]
     },
     "execution_count": 99,
     "metadata": {},
     "output_type": "execute_result"
    }
   ],
   "execution_count": 99
  },
  {
   "metadata": {
    "ExecuteTime": {
     "end_time": "2025-09-25T11:49:54.614857Z",
     "start_time": "2025-09-25T11:49:54.613214Z"
    }
   },
   "cell_type": "code",
   "source": [
    "def score(pred, true):\n",
    "    recall = recall_score(true, pred, pos_label=\"Primary Tumor\")\n",
    "    precision = precision_score(true, pred, pos_label=\"Primary Tumor\")\n",
    "    accuracy = accuracy_score(true, pred)\n",
    "\n",
    "    return {\"recall\": recall, \"precision\": precision, \"accuracy\": accuracy}"
   ],
   "id": "e56196fb4a2946a",
   "outputs": [],
   "execution_count": 100
  },
  {
   "metadata": {
    "ExecuteTime": {
     "end_time": "2025-09-25T11:49:54.721105Z",
     "start_time": "2025-09-25T11:49:54.713562Z"
    }
   },
   "cell_type": "code",
   "source": [
    "meth_features = dna_meth.columns[2:]\n",
    "\n",
    "Y_meth = dna_meth[\"Label\"]\n",
    "X_meth = dna_meth[meth_features]\n",
    "\n",
    "X_meth_train, X_meth_test, Y_meth_train, Y_meth_test = train_test_split(X_meth, Y_meth, test_size=0.2, random_state=3141)"
   ],
   "id": "4476577a21b9f245",
   "outputs": [],
   "execution_count": 101
  },
  {
   "metadata": {
    "ExecuteTime": {
     "end_time": "2025-09-25T11:49:55.007438Z",
     "start_time": "2025-09-25T11:49:54.760441Z"
    }
   },
   "cell_type": "code",
   "source": [
    "meth_tree = DecisionTreeClassifier()\n",
    "meth_tree.fit(X_meth_train, Y_meth_train)\n",
    "\n",
    "meth_prediction = meth_tree.predict(X_meth_test)\n",
    "print(score(meth_prediction, Y_meth_test))\n",
    "\n",
    "tree.plot_tree(meth_tree, feature_names=meth_features)\n",
    "plt.show()"
   ],
   "id": "7e208b787bc917ba",
   "outputs": [
    {
     "name": "stdout",
     "output_type": "stream",
     "text": [
      "{'recall': 0.9841269841269841, 'precision': 1.0, 'accuracy': 0.9850746268656716}\n"
     ]
    },
    {
     "data": {
      "text/plain": [
       "<Figure size 640x480 with 1 Axes>"
      ],
      "image/png": "[encoded data removed]"
     },
     "metadata": {},
     "output_type": "display_data",
     "jetTransient": {
      "display_id": null
     }
    }
   ],
   "execution_count": 102
  },
  {
   "metadata": {
    "ExecuteTime": {
     "end_time": "2025-09-25T11:49:55.062760Z",
     "start_time": "2025-09-25T11:49:55.033203Z"
    }
   },
   "cell_type": "code",
   "source": [
    "gene_features = gene_expr.columns[2:]\n",
    "\n",
    "Y_gene = gene_expr[\"Label\"]\n",
    "X_gene = gene_expr[gene_features]\n",
    "\n",
    "X_gene_train, X_gene_test, Y_gene_train, Y_gene_test = train_test_split(X_gene, Y_gene, test_size=0.2, random_state=3141)"
   ],
   "id": "27f47a801b72d0e8",
   "outputs": [],
   "execution_count": 103
  },
  {
   "metadata": {
    "ExecuteTime": {
     "end_time": "2025-09-25T11:49:55.498307Z",
     "start_time": "2025-09-25T11:49:55.084412Z"
    }
   },
   "cell_type": "code",
   "source": [
    "gene_tree = DecisionTreeClassifier()\n",
    "gene_tree.fit(X_gene_train, Y_gene_train)\n",
    "\n",
    "gene_prediction = gene_tree.predict(X_gene_test)\n",
    "print(score(gene_prediction, Y_gene_test))\n",
    "\n",
    "tree.plot_tree(gene_tree, feature_names=gene_features)\n",
    "plt.show()"
   ],
   "id": "22f8f30a23878c8",
   "outputs": [
    {
     "name": "stdout",
     "output_type": "stream",
     "text": [
      "{'recall': 1.0, 'precision': 0.9836065573770492, 'accuracy': 0.9848484848484849}\n"
     ]
    },
    {
     "data": {
      "text/plain": [
       "<Figure size 640x480 with 1 Axes>"
      ],
      "image/png": "[encoded data removed]"
     },
     "metadata": {},
     "output_type": "display_data",
     "jetTransient": {
      "display_id": null
     }
    }
   ],
   "execution_count": 104
  }
 ],
 "metadata": {
  "kernelspec": {
   "display_name": "Python 3",
   "language": "python",
   "name": "python3"
  },
  "language_info": {
   "codemirror_mode": {
    "name": "ipython",
    "version": 2
   },
   "file_extension": ".py",
   "mimetype": "text/x-python",
   "name": "python",
   "nbconvert_exporter": "python",
   "pygments_lexer": "ipython2",
   "version": "2.7.6"
  }
 },
 "nbformat": 4,
 "nbformat_minor": 5
}
